{
 "cells": [
  {
   "cell_type": "code",
   "execution_count": 1,
   "id": "6561352d",
   "metadata": {},
   "outputs": [],
   "source": [
    "import torch\n",
    "\n",
    "CACHE_DIR = '/data/huangjie'\n",
    "DEVICE = 'cuda' if torch.cuda.is_available() else 'cpu'"
   ]
  },
  {
   "cell_type": "markdown",
   "id": "91375637",
   "metadata": {},
   "source": [
    "# 扩散模型数据集构建  \n",
    "**基本数据标注**：1、基本基于开源模型进行出发去对数据进行标注；2、最大限度的压榨设备（可能就需要考虑到使用多进程的方式）；  \n",
    "**进阶数据标注**：此部分可能就需要去考虑到一些论文里面对于数据构建的算法，然后将算法提取出来进行运用  \n",
    "**注意事项**：1、对于算法需要分析各类模型，比如说YOLO算法有几种，可能就需要分析各类YOLO对于显存的占用；2、最后的所有的标签格式最好是要**符合标准的标记格式**"
   ]
  },
  {
   "cell_type": "markdown",
   "id": "ea893cdf",
   "metadata": {},
   "source": [
    "## 使用BLIP2生成简单的文本匹配"
   ]
  },
  {
   "cell_type": "code",
   "execution_count": null,
   "id": "41008f95",
   "metadata": {
    "vscode": {
     "languageId": "ini"
    }
   },
   "outputs": [],
   "source": [
    "import torch\n",
    "from PIL import Image\n",
    "import requests\n",
    "from transformers import Blip2Processor, Blip2ForConditionalGeneration\n",
    "\n",
    "processor = Blip2Processor.from_pretrained(\"Salesforce/blip2-opt-2.7b\")\n",
    "model = Blip2ForConditionalGeneration.from_pretrained(\n",
    "    \"Salesforce/blip2-opt-2.7b\", torch_dtype=torch.float16\n",
    ").to(device)\n",
    "\n",
    "# 输入图片（可以替换为本地图片路径或 URL）\n",
    "img_path_or_url = \"https://storage.googleapis.com/sfr-vision-language-research/BLIP/demo.jpg\"  # 示例图片 URL\n",
    "# 如果使用本地图片，替换为：img_path_or_url = \"path/to/your/image.jpg\"\n",
    "\n",
    "# 加载和预处理图片\n",
    "if img_path_or_url.startswith(\"http\"):\n",
    "    raw_image = Image.open(requests.get(img_path_or_url, stream=True).raw).convert(\"RGB\")\n",
    "else:\n",
    "    raw_image = Image.open(img_path_or_url).convert(\"RGB\")\n",
    "\n",
    "# 预处理图片并生成描述\n",
    "inputs = processor(images=raw_image, return_tensors=\"pt\").to(device, torch.float16)\n",
    "generated_ids = model.generate(**inputs, max_new_tokens=30)\n",
    "generated_text = processor.batch_decode(generated_ids, skip_special_tokens=True)[0].strip()\n",
    "\n",
    "# 输出生成的文本描述\n",
    "print(f\"Generated Caption: {generated_text}\")"
   ]
  },
  {
   "cell_type": "code",
   "execution_count": null,
   "id": "66cd878c",
   "metadata": {},
   "outputs": [],
   "source": []
  },
  {
   "cell_type": "markdown",
   "id": "19fe7624",
   "metadata": {},
   "source": [
    "## 使用Yolo+SAM2切割图片"
   ]
  },
  {
   "cell_type": "code",
   "execution_count": null,
   "id": "eda1bcc2",
   "metadata": {},
   "outputs": [],
   "source": []
  },
  {
   "cell_type": "code",
   "execution_count": null,
   "id": "eb56b616",
   "metadata": {},
   "outputs": [],
   "source": []
  },
  {
   "cell_type": "markdown",
   "id": "9c5cc8df",
   "metadata": {},
   "source": [
    "## 使用VLM模型生成图片文本描述"
   ]
  },
  {
   "cell_type": "code",
   "execution_count": null,
   "id": "33d8800f",
   "metadata": {},
   "outputs": [],
   "source": []
  }
 ],
 "metadata": {
  "kernelspec": {
   "display_name": "Python 3",
   "language": "python",
   "name": "python3"
  },
  "language_info": {
   "codemirror_mode": {
    "name": "ipython",
    "version": 3
   },
   "file_extension": ".py",
   "mimetype": "text/x-python",
   "name": "python",
   "nbconvert_exporter": "python",
   "pygments_lexer": "ipython3",
   "version": "3.10.12"
  }
 },
 "nbformat": 4,
 "nbformat_minor": 5
}
