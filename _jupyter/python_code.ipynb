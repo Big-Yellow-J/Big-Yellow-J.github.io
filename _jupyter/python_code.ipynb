{
 "cells": [
  {
   "cell_type": "code",
   "execution_count": 4,
   "metadata": {},
   "outputs": [
    {
     "name": "stdout",
     "output_type": "stream",
     "text": [
      "Used Time:0.8052911758422852\n"
     ]
    }
   ],
   "source": [
    "import time\n",
    "\n",
    "num_list = [1]*8000000\n",
    "sum_num = 0\n",
    "\n",
    "start_time = time.time()\n",
    "for i in num_list:\n",
    "    sum_num += i\n",
    "print(f\"Used Time:{time.time()- start_time}\")"
   ]
  },
  {
   "cell_type": "code",
   "execution_count": 3,
   "metadata": {},
   "outputs": [
    {
     "name": "stdout",
     "output_type": "stream",
     "text": [
      "Used Time:0.0834810733795166\n"
     ]
    }
   ],
   "source": [
    "import time\n",
    "\n",
    "num_list = [1]*8000000\n",
    "sum_num, n = 0, 8\n",
    "\n",
    "def chunk_sum(num_list: list):\n",
    "    return sum(num_list)\n",
    "\n",
    "start_time = time.time()\n",
    "chunk_size = len(num_list) // n\n",
    "chunks = [num_list[i * chunk_size:(i + 1) * chunk_size] for i in range(n)]\n",
    "for _ in chunks:\n",
    "    sum_num += chunk_sum(_)\n",
    "print(f\"Used Time:{time.time()- start_time}\")"
   ]
  },
  {
   "cell_type": "code",
   "execution_count": 12,
   "metadata": {},
   "outputs": [
    {
     "name": "stdout",
     "output_type": "stream",
     "text": [
      "Used Time:0.14263606071472168\n"
     ]
    }
   ],
   "source": [
    "import time\n",
    "from concurrent.futures import ThreadPoolExecutor, ProcessPoolExecutor, as_completed\n",
    "\n",
    "num_list = [1]*8000000\n",
    "sum_num, n = 0, 4\n",
    "\n",
    "def chunk_sum(num_list: list):\n",
    "    return sum(num_list)\n",
    "\n",
    "# 使用线程\n",
    "start_time = time.time()\n",
    "chunk_size = len(num_list) // n\n",
    "chunks = [num_list[i * chunk_size:(i + 1) * chunk_size] for i in range(n)]\n",
    "with ThreadPoolExecutor(max_workers= 2) as executor:\n",
    "    futures = [executor.submit(sum, chunk) for chunk in chunks]  # 提交任务\n",
    "    results = [future.result() for future in as_completed(futures)]  # 获取结果\n",
    "sum_num  = sum(results)\n",
    "print(f\"Used Time:{time.time()- start_time}\")\n",
    "\n",
    "# 使用进程\n",
    "# start_time = time.time()\n",
    "# chunk_size = len(num_list) // n\n",
    "\n",
    "# with ProcessPoolExecutor(max_workers=n) as executor:\n",
    "#     futures = [\n",
    "#         executor.submit(chunk_sum, i * chunk_size, (i + 1) * chunk_size, num_list)\n",
    "#         for i in range(n)\n",
    "#     ]\n",
    "#     results = [f.result() for f in futures]\n",
    "# sum_num  = sum(results)\n",
    "# print(f\"Used Time:{time.time()- start_time}\")"
   ]
  },
  {
   "cell_type": "code",
   "execution_count": 18,
   "metadata": {},
   "outputs": [
    {
     "name": "stdout",
     "output_type": "stream",
     "text": [
      "Used Time:1.6002354621887207\n",
      "Used Time:0.3817405700683594\n",
      "Used Time:0.7378873825073242\n",
      "Used Time:1.090383529663086\n",
      "Used Time:1.4325108528137207\n"
     ]
    }
   ],
   "source": [
    "import time\n",
    "import threading\n",
    "from concurrent.futures import ThreadPoolExecutor, ProcessPoolExecutor, as_completed\n",
    "\n",
    "num_list = [i for i in range(8000000)]\n",
    "sum_num, n = 0, 4\n",
    "\n",
    "def write_to_txt_one(num_list):\n",
    "    start_time = time.time()\n",
    "    with open('./tmp.txt', 'w', encoding= 'utf-8') as f:\n",
    "        for _ in num_list:\n",
    "            f.write(f\"{_}\")\n",
    "    print(f\"Used Time:{time.time()- start_time}\")\n",
    "\n",
    "def write_to_txt_thread(num_list, lock):\n",
    "    start_time = time.time()\n",
    "    with lock:\n",
    "        with open('./tmp.txt', 'w', encoding= 'utf-8') as f:\n",
    "            for _ in num_list:\n",
    "                f.write(f\"{_}\")\n",
    "    print(f\"Used Time:{time.time()- start_time}\")\n",
    "\n",
    "def main_thread():\n",
    "    lock = threading.Lock()\n",
    "    threads = []\n",
    "    for i in range(0, len(num_list), chunk_size):\n",
    "        chunk = num_list[i:i + chunk_size]\n",
    "        thread = threading.Thread(target=write_to_txt_thread, args=(chunk, lock))\n",
    "        threads.append(thread)\n",
    "        thread.start()\n",
    "\n",
    "    for thread in threads:\n",
    "        thread.join()\n",
    "\n",
    "write_to_txt_one(num_list)\n",
    "main_thread()"
   ]
  },
  {
   "cell_type": "code",
   "execution_count": null,
   "metadata": {},
   "outputs": [],
   "source": [
    "import threading\n",
    "import time\n",
    "lock = threading.Lock()\n",
    "\n",
    "def llm_api_result(num):\n",
    "    time.sleep(2)\n",
    "    return str(num+1)\n",
    "\n",
    "def write_to_text(num, lock):\n",
    "    with lock:\n",
    "        with open('./text.txt', 'a+', encoding= 'utf-8') as f:\n",
    "            f.write(llm_api_result(num))\n",
    "\n",
    "def main():\n",
    "    threads = []\n",
    "    for i in range(0, 10):\n",
    "        thread = threading.Thread(target=write_to_text, args= (i, lock))\n",
    "        threads.append(thread)\n",
    "        thread.start()\n",
    "    for thread in threads:\n",
    "        thread.join()\n",
    "main()"
   ]
  },
  {
   "cell_type": "code",
   "execution_count": 1,
   "metadata": {},
   "outputs": [
    {
     "name": "stdout",
     "output_type": "stream",
     "text": [
      "Used Time: 6.367322683334351\n"
     ]
    }
   ],
   "source": [
    "from concurrent.futures import ThreadPoolExecutor\n",
    "import time\n",
    "import threading\n",
    "\n",
    "def llm_api_result(num):\n",
    "    time.sleep(2)\n",
    "    return f\"{num}\"*10\n",
    "\n",
    "def write_to_file(num):\n",
    "    with open(\"output.txt\", \"a\", encoding=\"utf-8\") as f:\n",
    "        content = f\"Thread-{num}: \" + llm_api_result(num)\n",
    "        for char in content:\n",
    "            f.write(char)\n",
    "            time.sleep(0.001)\n",
    "        f.write(\"\\n\")\n",
    "\n",
    "def main():\n",
    "    with ThreadPoolExecutor(max_workers=5) as executor:\n",
    "        futures = [executor.submit(write_to_file, num) for num in range(10)]\n",
    "        for future in futures:\n",
    "            future.result()\n",
    "\n",
    "if __name__ == \"__main__\":\n",
    "    start_time = time.time()\n",
    "    main()\n",
    "    print(\"Used Time:\", time.time()- start_time)"
   ]
  },
  {
   "cell_type": "code",
   "execution_count": null,
   "metadata": {},
   "outputs": [],
   "source": []
  }
 ],
 "metadata": {
  "kernelspec": {
   "display_name": "base",
   "language": "python",
   "name": "python3"
  },
  "language_info": {
   "codemirror_mode": {
    "name": "ipython",
    "version": 3
   },
   "file_extension": ".py",
   "mimetype": "text/x-python",
   "name": "python",
   "nbconvert_exporter": "python",
   "pygments_lexer": "ipython3",
   "version": "3.11.5"
  }
 },
 "nbformat": 4,
 "nbformat_minor": 2
}
